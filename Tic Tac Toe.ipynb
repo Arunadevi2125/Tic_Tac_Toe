{
 "cells": [
  {
   "cell_type": "markdown",
   "id": "1caa307e",
   "metadata": {},
   "source": [
    "# Tic Tac Toe game using python"
   ]
  },
  {
   "cell_type": "code",
   "execution_count": 3,
   "id": "75a5ae0a",
   "metadata": {},
   "outputs": [],
   "source": [
    "from IPython.display import clear_output\n",
    "\n",
    "board = [' ',' ',' ',' ',' ',' ',' ',' ',' ',' ']\n",
    "\n",
    "def display_board(board):\n",
    "    \n",
    "    \n",
    "    print(\" \"+board[1]+\" | \"+board[2]+\" | \"+board[3]+\" \")\n",
    "    print(\"------------\")\n",
    "    print(\" \"+board[4]+\" | \"+board[5]+\" | \"+board[6]+\" \")\n",
    "    print(\"------------\")\n",
    "    print(\" \"+board[7]+\" | \"+board[8]+\" | \"+board[9]+\" \")\n",
    "    "
   ]
  },
  {
   "cell_type": "code",
   "execution_count": 6,
   "id": "c28e001c",
   "metadata": {},
   "outputs": [
    {
     "name": "stdout",
     "output_type": "stream",
     "text": [
      "   |   |   \n",
      "------------\n",
      "   |   |   \n",
      "------------\n",
      "   |   |   \n"
     ]
    }
   ],
   "source": [
    "display_board(board)"
   ]
  },
  {
   "cell_type": "code",
   "execution_count": 35,
   "id": "57265b83",
   "metadata": {},
   "outputs": [],
   "source": [
    "def player_input():\n",
    "    \n",
    "    choice = 'wrong'\n",
    "    while (choice != \"X\") and (choice != \"O\"):\n",
    "        choice = (input(\"player1 choose 'x' or 'o': \")).upper()\n",
    "        if (choice != \"X\") and (choice != \"O\"):\n",
    "            print(\"Sorry, please enter 'x' or 'o'\")\n",
    "        else:\n",
    "            if choice == 'X':\n",
    "                player1 = 'X'\n",
    "                player2 = 'O'\n",
    "            else:\n",
    "                player1 = 'O'\n",
    "                player2 = 'X'\n",
    "    return (player1,player2)"
   ]
  },
  {
   "cell_type": "code",
   "execution_count": 37,
   "id": "e998352c",
   "metadata": {},
   "outputs": [
    {
     "name": "stdout",
     "output_type": "stream",
     "text": [
      "player1 choose 'x' or 'o': o\n",
      "O\n"
     ]
    }
   ],
   "source": [
    "(player1,player2) = player_input()\n",
    "print(player1)"
   ]
  },
  {
   "cell_type": "code",
   "execution_count": 16,
   "id": "0c26675d",
   "metadata": {},
   "outputs": [],
   "source": [
    "def space_check(board, position):\n",
    "    \n",
    "    if board[position] == ' ':\n",
    "        return True\n",
    "    else:\n",
    "        return False"
   ]
  },
  {
   "cell_type": "code",
   "execution_count": 17,
   "id": "3ec367ca",
   "metadata": {},
   "outputs": [
    {
     "data": {
      "text/plain": [
       "True"
      ]
     },
     "execution_count": 17,
     "metadata": {},
     "output_type": "execute_result"
    }
   ],
   "source": [
    "space_check(board,4)"
   ]
  },
  {
   "cell_type": "code",
   "execution_count": 18,
   "id": "6f56900f",
   "metadata": {},
   "outputs": [
    {
     "name": "stdout",
     "output_type": "stream",
     "text": [
      "please enter a position from (1-9): 4\n"
     ]
    }
   ],
   "source": [
    "position = int(input(\"please enter a position from (1-9): \"))\n",
    "def place_marker(board, marker, position):\n",
    "    position = int(input(\"please enter a position from (1-9): \"))\n",
    "    while not space_check(board, position):\n",
    "        display_board(board)\n",
    "        position = int(input(\"please another position from (1-9): \"))\n",
    "        clear_output()\n",
    "    else:\n",
    "        clear_output()   \n",
    "        board[position] = marker\n",
    "        display_board(board)\n"
   ]
  },
  {
   "cell_type": "code",
   "execution_count": 20,
   "id": "d9d203e7",
   "metadata": {},
   "outputs": [
    {
     "name": "stdout",
     "output_type": "stream",
     "text": [
      "   |   | O \n",
      "------------\n",
      "   | O |   \n",
      "------------\n",
      "   |   |   \n"
     ]
    }
   ],
   "source": [
    "place_marker(board,player1,position)"
   ]
  },
  {
   "cell_type": "code",
   "execution_count": 21,
   "id": "1324c599",
   "metadata": {},
   "outputs": [],
   "source": [
    "def win_check(board, mark):\n",
    "    \n",
    "    #display_board(board)\n",
    "    \n",
    "    if (board[1] == mark) and (board[2] == mark) and (board[3] == mark):\n",
    "        return True\n",
    "    if (board[6] == mark) and (board[4] == mark) and (board[5] == mark):\n",
    "        return True\n",
    "    if (board[9] == mark) and (board[7] == mark) and (board[8] == mark):\n",
    "        return True\n",
    "    \n",
    "    if (board[1] == mark) and (board[4] == mark) and (board[7] == mark):\n",
    "        return True\n",
    "    if (board[2] == mark) and (board[5] == mark) and (board[8] == mark):\n",
    "        return True\n",
    "    if (board[3] == mark) and (board[6] == mark) and (board[9] == mark):\n",
    "        return True\n",
    "    \n",
    "    if (board[1] == mark) and (board[5] == mark) and (board[9] == mark):\n",
    "        return True\n",
    "    if (board[3] == mark) and (board[5] == mark) and (board[7] == mark):\n",
    "        return True\n",
    "    \n",
    "    else:\n",
    "        return False"
   ]
  },
  {
   "cell_type": "code",
   "execution_count": 23,
   "id": "442bc199",
   "metadata": {},
   "outputs": [
    {
     "data": {
      "text/plain": [
       "False"
      ]
     },
     "execution_count": 23,
     "metadata": {},
     "output_type": "execute_result"
    }
   ],
   "source": [
    "win_check(board,'O')"
   ]
  },
  {
   "cell_type": "code",
   "execution_count": 24,
   "id": "9f47072c",
   "metadata": {},
   "outputs": [],
   "source": [
    "def full_board_check(board):\n",
    "    count = 0\n",
    "    for i in range(1,10):\n",
    "        if board[i] != ' ':            \n",
    "            count = count+1\n",
    "        else:\n",
    "            continue\n",
    "    if count == 9:\n",
    "        return True\n",
    "    else:\n",
    "        return False"
   ]
  },
  {
   "cell_type": "code",
   "execution_count": 25,
   "id": "e540289e",
   "metadata": {},
   "outputs": [
    {
     "name": "stdout",
     "output_type": "stream",
     "text": [
      "[' ', ' ', ' ', 'O', ' ', 'O', ' ', ' ', ' ', ' ']\n"
     ]
    },
    {
     "data": {
      "text/plain": [
       "False"
      ]
     },
     "execution_count": 25,
     "metadata": {},
     "output_type": "execute_result"
    }
   ],
   "source": [
    "print(board)\n",
    "full_board_check(board)"
   ]
  },
  {
   "cell_type": "code",
   "execution_count": 29,
   "id": "1d49b22a",
   "metadata": {},
   "outputs": [],
   "source": [
    "def player_choice(board):\n",
    "    \n",
    "    next_position = int(input(\"Please enter your next position: \"))\n",
    "    if space_check(board,next_position):\n",
    "        return next_position\n",
    "    else:\n",
    "        return False"
   ]
  },
  {
   "cell_type": "code",
   "execution_count": 30,
   "id": "2865f84f",
   "metadata": {},
   "outputs": [
    {
     "name": "stdout",
     "output_type": "stream",
     "text": [
      "Please enter your next position: 3\n"
     ]
    },
    {
     "data": {
      "text/plain": [
       "False"
      ]
     },
     "execution_count": 30,
     "metadata": {},
     "output_type": "execute_result"
    }
   ],
   "source": [
    "player_choice(board)"
   ]
  },
  {
   "cell_type": "code",
   "execution_count": 31,
   "id": "c5559cf3",
   "metadata": {},
   "outputs": [],
   "source": [
    "def replay():\n",
    "    \n",
    "    decision = input(\"Do you want to play again 'Yes' or 'No': \")\n",
    "    if decision == 'Yes':\n",
    "        return True\n",
    "    else:\n",
    "        return False"
   ]
  },
  {
   "cell_type": "code",
   "execution_count": 32,
   "id": "b4c95f10",
   "metadata": {},
   "outputs": [
    {
     "name": "stdout",
     "output_type": "stream",
     "text": [
      "Do you want to play again 'Yes' or 'No': No\n"
     ]
    },
    {
     "data": {
      "text/plain": [
       "False"
      ]
     },
     "execution_count": 32,
     "metadata": {},
     "output_type": "execute_result"
    }
   ],
   "source": [
    "replay()"
   ]
  },
  {
   "cell_type": "code",
   "execution_count": 38,
   "id": "0718fbe7",
   "metadata": {},
   "outputs": [
    {
     "name": "stdout",
     "output_type": "stream",
     "text": [
      " X | O | X \n",
      "------------\n",
      " O | X | O \n",
      "------------\n",
      " X |   |   \n",
      "player1 wins\n",
      "Game Over\n",
      "Do you want to play again 'Yes' or 'No': 8\n"
     ]
    }
   ],
   "source": [
    "while True:\n",
    "    clear_output()\n",
    "    board = [' ',' ',' ',' ',' ',' ',' ',' ',' ',' ']\n",
    "    display_board(board)\n",
    "    (player1st,player2nd) = player_input()\n",
    "    print(\"player1\", player1st)\n",
    "    print(\"player2\", player2nd)\n",
    "    game_on = input(\"Are you ready to play? Enter Y or N \")\n",
    "    \n",
    "\n",
    "    \n",
    "    \n",
    "    while game_on == 'Y':\n",
    "        print(\"player1 turns type position(1,9)\")\n",
    "        place_marker(board, player1st, position)\n",
    "        \n",
    "\n",
    "        if not(full_board_check(board) or win_check(board,player1st)):            \n",
    "            print(\"player2 turns type position(1,9)\")\n",
    "            place_marker(board, player2nd, position)\n",
    "            \n",
    "            \n",
    "        if win_check(board,player1st):\n",
    "            print(\"player1 wins\")\n",
    "            \n",
    "    \n",
    "        if win_check(board,player2nd):\n",
    "            print(\"player2 wins\")\n",
    "            \n",
    "            \n",
    "        if (full_board_check(board) or win_check(board,player1st) or win_check(board,player2nd)):\n",
    "            \n",
    "            print(\"Game Over\")\n",
    "            board = [' ',' ',' ',' ',' ',' ',' ',' ',' ',' ',' ']\n",
    "            break\n",
    "        \n",
    "\n",
    "\n",
    "    if not replay():\n",
    "        break"
   ]
  }
 ],
 "metadata": {
  "kernelspec": {
   "display_name": "Python 3 (ipykernel)",
   "language": "python",
   "name": "python3"
  },
  "language_info": {
   "codemirror_mode": {
    "name": "ipython",
    "version": 3
   },
   "file_extension": ".py",
   "mimetype": "text/x-python",
   "name": "python",
   "nbconvert_exporter": "python",
   "pygments_lexer": "ipython3",
   "version": "3.11.5"
  }
 },
 "nbformat": 4,
 "nbformat_minor": 5
}
